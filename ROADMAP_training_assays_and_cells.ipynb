{
 "cells": [
  {
   "cell_type": "code",
   "execution_count": 116,
   "id": "020a0e23",
   "metadata": {},
   "outputs": [],
   "source": [
    "#import numpy as np\n",
    "import pandas as pd\n",
    "\n",
    "rm_exp = pd.read_csv('data/expression/57epigenomes.RPKM.pc.gz',delimiter=\"\\t\")"
   ]
  },
  {
   "cell_type": "code",
   "execution_count": 105,
   "id": "1f40aece",
   "metadata": {},
   "outputs": [],
   "source": [
    "#get list of id's which we have expression data for\n",
    "exp_ids = list(rm_exp.columns.values)[2:]"
   ]
  },
  {
   "cell_type": "code",
   "execution_count": 106,
   "id": "f075a317",
   "metadata": {},
   "outputs": [],
   "source": [
    "import urllib.request\n",
    "from bs4 import BeautifulSoup\n",
    "\n",
    "target_url = 'https://egg2.wustl.edu/roadmap/data/byFileType/signal/consolidated/macs2signal/pval/'\n",
    "data = urllib.request.urlopen(target_url)\n",
    "\n",
    "soup = BeautifulSoup(data, \"html.parser\").find_all(lambda t: t.name == \"a\")\n",
    "#get https\n",
    "links = [a[\"href\"] for a in soup][5:]\n",
    "\n",
    "#convert df and split by assay\n",
    "epi_dat = pd.DataFrame({'link':links})\n",
    "epi_dat[['id','mix']] = epi_dat['link'].str.split('-',expand=True)\n",
    "epi_dat['assay'] = epi_dat['mix'].str.split('.').str[0]"
   ]
  },
  {
   "cell_type": "code",
   "execution_count": 107,
   "id": "e6cc9e3e",
   "metadata": {},
   "outputs": [],
   "source": [
    "#filter to the cases with expression data\n",
    "epi_dat = epi_dat[epi_dat['id'].isin(exp_ids)]"
   ]
  },
  {
   "cell_type": "code",
   "execution_count": 108,
   "id": "928cb241",
   "metadata": {},
   "outputs": [
    {
     "data": {
      "text/plain": [
       "<AxesSubplot:>"
      ]
     },
     "execution_count": 108,
     "metadata": {},
     "output_type": "execute_result"
    },
    {
     "data": {
      "image/png": "[encoded data removed]",
      "text/plain": [
       "<Figure size 432x288 with 1 Axes>"
      ]
     },
     "metadata": {
      "needs_background": "light"
     },
     "output_type": "display_data"
    }
   ],
   "source": [
    "#let's have a look at which assays are available in cells/tissues\n",
    "epi_dat.assay.value_counts().sort_values().plot(kind = 'barh')"
   ]
  },
  {
   "cell_type": "code",
   "execution_count": 109,
   "id": "962c2efd",
   "metadata": {},
   "outputs": [],
   "source": [
    "#take 12 assays, down to H3K4me2\n",
    "assays = epi_dat.assay.value_counts().sort_values(ascending=False).index[0:12]"
   ]
  },
  {
   "cell_type": "code",
   "execution_count": 110,
   "id": "7db25bd1",
   "metadata": {},
   "outputs": [
    {
     "name": "stdout",
     "output_type": "stream",
     "text": [
      "There are 11 cells/tissues with all assays:\n",
      "['H3K36me3' 'H3K4me1' 'H3K4me3' 'H3K9me3' 'H3K27me3' 'H3K27ac' 'DNase'\n",
      " 'H3K9ac' 'H3K4me2' 'H2A' 'H3K79me2' 'H4K20me1']\n"
     ]
    }
   ],
   "source": [
    "#get id's\n",
    "exp_epi_ids = []\n",
    "for cell in exp_ids:\n",
    "    if(set(assays).issubset(epi_dat[epi_dat['id']==cell].assay.values)):\n",
    "        exp_epi_ids.append(cell)\n",
    "print(f\"There are {len(exp_epi_ids)} cells/tissues with all assays:\")\n",
    "print(assays.values)"
   ]
  },
  {
   "cell_type": "code",
   "execution_count": 111,
   "id": "d1679a6c",
   "metadata": {},
   "outputs": [],
   "source": [
    "#get cell/tissue names for these ids\n",
    "id_names = 'https://egg2.wustl.edu/roadmap/data/byDataType/rna/expression/EG.name.txt'\n",
    "id_names = pd.read_csv(id_names, header=None, sep='\\s+')\n",
    "id_names.rename(columns={0: 'id', 1: 'cell_tissue'},inplace=True)"
   ]
  },
  {
   "cell_type": "code",
   "execution_count": 112,
   "id": "dbb8d442",
   "metadata": {},
   "outputs": [
    {
     "data": {
      "text/html": [
       "<div>\n",
       "<style scoped>\n",
       "    .dataframe tbody tr th:only-of-type {\n",
       "        vertical-align: middle;\n",
       "    }\n",
       "\n",
       "    .dataframe tbody tr th {\n",
       "        vertical-align: top;\n",
       "    }\n",
       "\n",
       "    .dataframe thead th {\n",
       "        text-align: right;\n",
       "    }\n",
       "</style>\n",
       "<table border=\"1\" class=\"dataframe\">\n",
       "  <thead>\n",
       "    <tr style=\"text-align: right;\">\n",
       "      <th></th>\n",
       "      <th>id</th>\n",
       "      <th>cell_tissue</th>\n",
       "    </tr>\n",
       "  </thead>\n",
       "  <tbody>\n",
       "    <tr>\n",
       "      <th>1</th>\n",
       "      <td>E003</td>\n",
       "      <td>H1_Cell_Line</td>\n",
       "    </tr>\n",
       "    <tr>\n",
       "      <th>47</th>\n",
       "      <td>E114</td>\n",
       "      <td>A549</td>\n",
       "    </tr>\n",
       "    <tr>\n",
       "      <th>48</th>\n",
       "      <td>E116</td>\n",
       "      <td>GM12878</td>\n",
       "    </tr>\n",
       "    <tr>\n",
       "      <th>49</th>\n",
       "      <td>E117</td>\n",
       "      <td>HELA</td>\n",
       "    </tr>\n",
       "    <tr>\n",
       "      <th>50</th>\n",
       "      <td>E118</td>\n",
       "      <td>HEPG2</td>\n",
       "    </tr>\n",
       "    <tr>\n",
       "      <th>51</th>\n",
       "      <td>E119</td>\n",
       "      <td>HMEC</td>\n",
       "    </tr>\n",
       "    <tr>\n",
       "      <th>52</th>\n",
       "      <td>E120</td>\n",
       "      <td>HSMM</td>\n",
       "    </tr>\n",
       "    <tr>\n",
       "      <th>53</th>\n",
       "      <td>E122</td>\n",
       "      <td>HUVEC</td>\n",
       "    </tr>\n",
       "    <tr>\n",
       "      <th>54</th>\n",
       "      <td>E123</td>\n",
       "      <td>K562</td>\n",
       "    </tr>\n",
       "    <tr>\n",
       "      <th>55</th>\n",
       "      <td>E127</td>\n",
       "      <td>NHEK</td>\n",
       "    </tr>\n",
       "    <tr>\n",
       "      <th>56</th>\n",
       "      <td>E128</td>\n",
       "      <td>NHLF</td>\n",
       "    </tr>\n",
       "  </tbody>\n",
       "</table>\n",
       "</div>"
      ],
      "text/plain": [
       "      id   cell_tissue\n",
       "1   E003  H1_Cell_Line\n",
       "47  E114          A549\n",
       "48  E116       GM12878\n",
       "49  E117          HELA\n",
       "50  E118         HEPG2\n",
       "51  E119          HMEC\n",
       "52  E120          HSMM\n",
       "53  E122         HUVEC\n",
       "54  E123          K562\n",
       "55  E127          NHEK\n",
       "56  E128          NHLF"
      ]
     },
     "execution_count": 112,
     "metadata": {},
     "output_type": "execute_result"
    }
   ],
   "source": [
    "#so training sampels all seem to be cell lines\n",
    "id_names[id_names['id'].isin(exp_epi_ids)]"
   ]
  },
  {
   "cell_type": "code",
   "execution_count": 113,
   "id": "9063a960",
   "metadata": {},
   "outputs": [],
   "source": [
    "#Finally get download links\n",
    "epi_dat = epi_dat[epi_dat['id'].isin(exp_epi_ids)]\n",
    "pge_url = 'https://egg2.wustl.edu/roadmap/data/byFileType/signal/consolidated/macs2signal/pval/'\n",
    "epi_dat['link'] = pge_url+epi_dat['link']\n",
    "#creat df with just id and link\n",
    "epi_urls = epi_dat[['id', 'link']].copy()\n",
    "epi_urls.rename(columns={'id': 'name'},inplace=True)"
   ]
  },
  {
   "cell_type": "code",
   "execution_count": 115,
   "id": "4ee70473",
   "metadata": {},
   "outputs": [],
   "source": [
    "#save metadata\n",
    "for assay in assays:\n",
    "    epi_urls[epi_dat['assay']==assay].to_csv(f'./metadata/{assay}.csv',index=False)"
   ]
  }
 ],
 "metadata": {
  "kernelspec": {
   "display_name": "epi_to_express",
   "language": "python",
   "name": "epi_to_express"
  },
  "language_info": {
   "codemirror_mode": {
    "name": "ipython",
    "version": 3
   },
   "file_extension": ".py",
   "mimetype": "text/x-python",
   "name": "python",
   "nbconvert_exporter": "python",
   "pygments_lexer": "ipython3",
   "version": "3.9.7"
  }
 },
 "nbformat": 4,
 "nbformat_minor": 5
}
