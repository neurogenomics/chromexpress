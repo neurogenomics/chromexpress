{
 "cells": [
  {
   "cell_type": "code",
   "execution_count": 1,
   "id": "52036238",
   "metadata": {},
   "outputs": [],
   "source": [
    "# Convenient jupyter setup\n",
    "%load_ext autoreload\n",
    "%autoreload 2\n",
    "\n",
    "!pip list | grep epi_to_express  # Make sure you have the project installed as editable library\n",
    "\n",
    "# if you do not have it installed yet, run\n",
    "#import os\n",
    "#os.chdir('/rds/general/project/neurogenomics-lab/live/Projects/epi_to_express') #need to change to parent directory..\n",
    "#!pip install -e .\n",
    "# in the parent directory of the model"
   ]
  },
  {
   "cell_type": "code",
   "execution_count": 6,
   "id": "357ecce3",
   "metadata": {},
   "outputs": [],
   "source": [
    "\"\"\"Main module to load and train the model. This should be the program entry point.\"\"\"\n",
    "#generic imports\n",
    "import os\n",
    "import pathlib\n",
    "import random\n",
    "from datetime import datetime\n",
    "import time\n",
    "import numpy as np\n",
    "import pandas as pd\n",
    "import math\n",
    "\n",
    "#import constants\n",
    "from epi_to_express.constants import (\n",
    "    CHROM_LEN, \n",
    "    CHROMOSOMES, \n",
    "    SAMPLES,\n",
    "    CHROMOSOME_DATA,\n",
    "    SRC_PATH,\n",
    "    ASSAYS,\n",
    "    DATA_PATH)\n",
    "\n",
    "#model imports\n",
    "import tensorflow as tf\n",
    "#data loading imports\n",
    "from epi_to_express.utils import(\n",
    "    train_valid_split,\n",
    "    DataGenerator)\n",
    "\n",
    "# Set random seeds.\n",
    "np.random.seed(101)\n",
    "tf.random.set_seed(101)\n",
    "random.seed(101)\n",
    "\n",
    "SAVE_PATH = pathlib.Path(\"./model_results\")\n",
    "SAVE_PATH.mkdir(parents=True, exist_ok=True)\n",
    "\n",
    "MOD_SAVE_PATH = pathlib.Path(\"./model_results/models\")\n",
    "MOD_SAVE_PATH.mkdir(parents=True, exist_ok=True)\n",
    "\n",
    "# 1. --- SETUP PARAMETERS ------------------------------------------------\n",
    "\n",
    "#what will be used to predict expression\n",
    "features = [\"h3k27ac\"]#[ASSAYS[0]]#h3k36me3\n",
    "#what cell will we predict in\n",
    "cell = [\"K562\"]#[SAMPLES[0]]\n",
    "#resolution for training assay\n",
    "pred_resolution = 25\n",
    "# 1 Mb of the assay will be considered for the prediction of gene expression\n",
    "window_size = 100_000#1_000_000\n",
    "\n",
    "# Model specifics\n",
    "batch_size = 128#256#128\n",
    "n_epochs = 100\n",
    "#steps_per_epoch = 64\n",
    "init_learning_rate = 0.001\n",
    "lr_decay_factor = 0.2\n",
    "lr_patience = 3\n",
    "es_patience = 12\n",
    "\n",
    "# Dataset parameters\n",
    "valid_frac = 0.2\n",
    "# Generic split func - Train test split over chromosomes\n",
    "split = \"CHROM\"\n",
    "# Exclude chromosomes, save for test set (when not predicting across cell types)\n",
    "# hold out chromosomes 3,7,20\n",
    "blind_test = [2,6,19]#positions not chroms\n",
    "train_len = np.delete(CHROM_LEN, blind_test)\n",
    "train_chrom = np.delete(CHROMOSOMES, blind_test)\n",
    "test_len = CHROM_LEN[np.ix_(blind_test)]\n",
    "test_chrom = CHROMOSOMES[np.ix_(blind_test)]\n",
    "train_valid_samples = np.asarray(cell)\n",
    "\n",
    "#Split the data into training and validation set - split by mix chrom and sample\n",
    "#set seed so get the same split\n",
    "(s_train_index, s_valid_index, c_train_index, c_valid_index, s_train_dist,\n",
    " s_valid_dist, c_train_dist, c_valid_dist) = train_valid_split(train_chrom,\n",
    "                                                            train_len,\n",
    "                                                            train_valid_samples,\n",
    "                                                            valid_frac,\n",
    "                                                            split)\n",
    "# Training\n",
    "train_cells = train_valid_samples[np.ix_(s_train_index)]\n",
    "train_chromosomes = CHROMOSOMES[np.ix_(c_train_index)]\n",
    "train_cell_probs = s_train_dist # equal probabilities\n",
    "train_chromosome_probs = c_train_dist #weighted by chrom size\n",
    "# Validation\n",
    "#using wandb.config. converted their class (v 0.12.9, issue raised) so not storing for now\n",
    "valid_cells = train_valid_samples[np.ix_(s_valid_index)]\n",
    "valid_chromosomes = CHROMOSOMES[np.ix_(c_valid_index)]\n",
    "valid_cell_probs = s_valid_dist\n",
    "valid_chromosome_probs = c_valid_dist\n",
    "\n",
    "# 2. --- Data loaders ---------------------------------------------------\n",
    "training_generator = DataGenerator(cell=train_cells, \n",
    "                                   chromosomes=train_chromosomes,\n",
    "                                   features=features, \n",
    "                                   window_size=window_size,\n",
    "                                   pred_res=pred_resolution, \n",
    "                                   batch_size=batch_size, shuffle=True,\n",
    "                                   test_subset=False)\n",
    "validation_generator = DataGenerator(cell=valid_cells, \n",
    "                                   chromosomes=valid_chromosomes,\n",
    "                                   features=features, \n",
    "                                   window_size=window_size,\n",
    "                                   pred_res=pred_resolution,\n",
    "                                   batch_size=batch_size, shuffle=True,\n",
    "                                   test_subset=False)\n"
   ]
  },
  {
   "cell_type": "code",
   "execution_count": 7,
   "id": "e332c9c1",
   "metadata": {},
   "outputs": [
    {
     "name": "stdout",
     "output_type": "stream",
     "text": [
      "['h3k27ac']\n",
      "['K562']\n"
     ]
    }
   ],
   "source": [
    "print(features)\n",
    "print(cell)"
   ]
  },
  {
   "cell_type": "code",
   "execution_count": 8,
   "id": "d66ba119",
   "metadata": {},
   "outputs": [],
   "source": [
    "# 3. --- Training ---------------------------------------------------\n",
    "from epi_to_express.model import conv_profile_task_base\n",
    "\n",
    "# import conv model\n",
    "model = conv_profile_task_base(input_shape=[window_size//pred_resolution,len(features)],\n",
    "                               output_shape=[1,1])\n",
    "\n",
    "#learning rate schedule\n",
    "lr_schedule = tf.keras.callbacks.ReduceLROnPlateau(monitor=\"val_loss\", \n",
    "                                                 factor=lr_decay_factor, \n",
    "                                                 patience=lr_patience)\n",
    "#early stopping\n",
    "es = tf.keras.callbacks.EarlyStopping(monitor='val_loss',patience=es_patience,\n",
    "                                      #save best weights\n",
    "                                      restore_best_weights=True)\n",
    "\n",
    "model.compile(optimizer=tf.keras.optimizers.Adam(learning_rate=init_learning_rate),\n",
    "              loss=tf.keras.losses.mean_squared_error,\n",
    "              metrics='mse')"
   ]
  },
  {
   "cell_type": "code",
   "execution_count": null,
   "id": "0c00597d",
   "metadata": {},
   "outputs": [],
   "source": [
    "#diff at 10k\n",
    "#diff at 20k\n",
    "#diff at 50k\n",
    "#diff at 100k"
   ]
  },
  {
   "cell_type": "code",
   "execution_count": 12,
   "id": "4889f83c",
   "metadata": {},
   "outputs": [
    {
     "name": "stdout",
     "output_type": "stream",
     "text": [
      "Epoch 1/100\n",
      "60/60 - 216s - loss: 1.4463 - mse: 1.4463 - val_loss: 0.1010 - val_mse: 0.1010 - lr: 0.0010 - 216s/epoch - 4s/step\n",
      "Epoch 2/100\n",
      "60/60 - 210s - loss: 1.3371 - mse: 1.3371 - val_loss: 0.0932 - val_mse: 0.0932 - lr: 0.0010 - 210s/epoch - 3s/step\n",
      "Epoch 3/100\n",
      "60/60 - 208s - loss: 1.3100 - mse: 1.3100 - val_loss: 0.0921 - val_mse: 0.0921 - lr: 0.0010 - 208s/epoch - 3s/step\n",
      "Epoch 4/100\n",
      "60/60 - 205s - loss: 1.2966 - mse: 1.2966 - val_loss: 0.0918 - val_mse: 0.0918 - lr: 0.0010 - 205s/epoch - 3s/step\n",
      "Epoch 5/100\n",
      "60/60 - 204s - loss: 1.2811 - mse: 1.2811 - val_loss: 0.1009 - val_mse: 0.1009 - lr: 0.0010 - 204s/epoch - 3s/step\n",
      "Epoch 6/100\n",
      "60/60 - 202s - loss: 1.2783 - mse: 1.2783 - val_loss: 0.0925 - val_mse: 0.0925 - lr: 0.0010 - 202s/epoch - 3s/step\n",
      "Epoch 7/100\n",
      "60/60 - 203s - loss: 1.2609 - mse: 1.2609 - val_loss: 0.0949 - val_mse: 0.0949 - lr: 0.0010 - 203s/epoch - 3s/step\n",
      "Epoch 8/100\n",
      "60/60 - 201s - loss: 1.1432 - mse: 1.1432 - val_loss: 0.0925 - val_mse: 0.0925 - lr: 2.0000e-04 - 201s/epoch - 3s/step\n",
      "Epoch 9/100\n",
      "60/60 - 202s - loss: 1.0483 - mse: 1.0483 - val_loss: 0.0921 - val_mse: 0.0921 - lr: 2.0000e-04 - 202s/epoch - 3s/step\n",
      "Epoch 10/100\n",
      "60/60 - 202s - loss: 1.2719 - mse: 1.2719 - val_loss: 0.0928 - val_mse: 0.0928 - lr: 2.0000e-04 - 202s/epoch - 3s/step\n"
     ]
    },
    {
     "data": {
      "text/plain": [
       "<keras.callbacks.History at 0x7fc974476460>"
      ]
     },
     "execution_count": 12,
     "metadata": {},
     "output_type": "execute_result"
    }
   ],
   "source": [
    "#h3k36me3\n",
    "# Train model on dataset\n",
    "model.fit(training_generator,\n",
    "          validation_data=validation_generator,\n",
    "          epochs=n_epochs,\n",
    "          #steps_per_epoch=steps_per_epoch,\n",
    "          verbose=2,\n",
    "          use_multiprocessing=False,#started getting errors when set to True...\n",
    "          callbacks=[es,lr_schedule]\n",
    "         )"
   ]
  },
  {
   "cell_type": "code",
   "execution_count": 5,
   "id": "b2bcdb1c",
   "metadata": {},
   "outputs": [
    {
     "name": "stdout",
     "output_type": "stream",
     "text": [
      "Epoch 1/100\n"
     ]
    },
    {
     "name": "stderr",
     "output_type": "stream",
     "text": [
      "2022-06-07 08:51:44.364608: I tensorflow/stream_executor/cuda/cuda_dnn.cc:368] Loaded cuDNN version 8400\n",
      "2022-06-07 08:51:45.201832: I tensorflow/core/platform/default/subprocess.cc:304] Start cannot spawn child process: No such file or directory\n",
      "2022-06-07 08:51:45.380324: I tensorflow/stream_executor/cuda/cuda_blas.cc:1786] TensorFloat-32 will be used for the matrix multiplication. This will only be logged once.\n"
     ]
    },
    {
     "name": "stdout",
     "output_type": "stream",
     "text": [
      "121/121 - 208s - loss: 1.4076 - mse: 1.4076 - val_loss: 0.0937 - val_mse: 0.0937 - lr: 0.0010 - 208s/epoch - 2s/step\n",
      "Epoch 2/100\n",
      "121/121 - 184s - loss: 1.3110 - mse: 1.3110 - val_loss: 0.0895 - val_mse: 0.0895 - lr: 0.0010 - 184s/epoch - 2s/step\n",
      "Epoch 3/100\n",
      "121/121 - 180s - loss: 1.2890 - mse: 1.2890 - val_loss: 0.0950 - val_mse: 0.0950 - lr: 0.0010 - 180s/epoch - 1s/step\n",
      "Epoch 4/100\n",
      "121/121 - 180s - loss: 1.2777 - mse: 1.2777 - val_loss: 0.0910 - val_mse: 0.0910 - lr: 0.0010 - 180s/epoch - 1s/step\n",
      "Epoch 5/100\n",
      "121/121 - 180s - loss: 1.2692 - mse: 1.2692 - val_loss: 0.0925 - val_mse: 0.0925 - lr: 0.0010 - 180s/epoch - 1s/step\n",
      "Epoch 6/100\n",
      "121/121 - 181s - loss: 1.2654 - mse: 1.2654 - val_loss: 0.0925 - val_mse: 0.0925 - lr: 2.0000e-04 - 181s/epoch - 1s/step\n",
      "Epoch 7/100\n",
      "121/121 - 181s - loss: 1.2655 - mse: 1.2655 - val_loss: 0.0921 - val_mse: 0.0921 - lr: 2.0000e-04 - 181s/epoch - 1s/step\n",
      "Epoch 8/100\n",
      "121/121 - 181s - loss: 1.2635 - mse: 1.2635 - val_loss: 0.0916 - val_mse: 0.0916 - lr: 2.0000e-04 - 181s/epoch - 1s/step\n"
     ]
    },
    {
     "data": {
      "text/plain": [
       "<keras.callbacks.History at 0x7fe4b44190d0>"
      ]
     },
     "execution_count": 5,
     "metadata": {},
     "output_type": "execute_result"
    }
   ],
   "source": [
    "#h3k36me3\n",
    "#128 batch\n",
    "# Train model on dataset\n",
    "model.fit(training_generator,\n",
    "          validation_data=validation_generator,\n",
    "          epochs=n_epochs,\n",
    "          #steps_per_epoch=steps_per_epoch,\n",
    "          verbose=2,\n",
    "          use_multiprocessing=False,#started getting errors when set to True...\n",
    "          callbacks=[es,lr_schedule]\n",
    "         )"
   ]
  },
  {
   "cell_type": "code",
   "execution_count": 16,
   "id": "31a8c895",
   "metadata": {},
   "outputs": [
    {
     "name": "stdout",
     "output_type": "stream",
     "text": [
      "Epoch 1/100\n",
      "60/60 - 215s - loss: 1.4660 - mse: 1.4660 - val_loss: 0.0945 - val_mse: 0.0945 - lr: 0.0010 - 215s/epoch - 4s/step\n",
      "Epoch 2/100\n",
      "60/60 - 209s - loss: 1.3465 - mse: 1.3465 - val_loss: 0.0898 - val_mse: 0.0898 - lr: 0.0010 - 209s/epoch - 3s/step\n",
      "Epoch 3/100\n",
      "60/60 - 208s - loss: 1.3212 - mse: 1.3212 - val_loss: 0.0922 - val_mse: 0.0922 - lr: 0.0010 - 208s/epoch - 3s/step\n",
      "Epoch 4/100\n",
      "60/60 - 205s - loss: 1.3116 - mse: 1.3116 - val_loss: 0.0910 - val_mse: 0.0910 - lr: 0.0010 - 205s/epoch - 3s/step\n",
      "Epoch 5/100\n",
      "60/60 - 203s - loss: 1.3008 - mse: 1.3008 - val_loss: 0.0961 - val_mse: 0.0961 - lr: 0.0010 - 203s/epoch - 3s/step\n",
      "Epoch 6/100\n",
      "60/60 - 203s - loss: 1.2980 - mse: 1.2980 - val_loss: 0.0926 - val_mse: 0.0926 - lr: 2.0000e-04 - 203s/epoch - 3s/step\n",
      "Epoch 7/100\n",
      "60/60 - 202s - loss: 1.2834 - mse: 1.2834 - val_loss: 0.0929 - val_mse: 0.0929 - lr: 2.0000e-04 - 202s/epoch - 3s/step\n",
      "Epoch 8/100\n",
      "60/60 - 202s - loss: 1.1664 - mse: 1.1664 - val_loss: 0.0917 - val_mse: 0.0917 - lr: 2.0000e-04 - 202s/epoch - 3s/step\n"
     ]
    },
    {
     "data": {
      "text/plain": [
       "<keras.callbacks.History at 0x7fc8ec0d8820>"
      ]
     },
     "execution_count": 16,
     "metadata": {},
     "output_type": "execute_result"
    }
   ],
   "source": [
    "#h3k27ac\n",
    "# Train model on dataset\n",
    "model.fit(training_generator,\n",
    "          validation_data=validation_generator,\n",
    "          epochs=n_epochs,\n",
    "          #steps_per_epoch=steps_per_epoch,\n",
    "          verbose=2,\n",
    "          use_multiprocessing=False,#started getting errors when set to True...\n",
    "          callbacks=[es,lr_schedule]\n",
    "         )"
   ]
  },
  {
   "cell_type": "code",
   "execution_count": 9,
   "id": "512f9925",
   "metadata": {},
   "outputs": [
    {
     "name": "stdout",
     "output_type": "stream",
     "text": [
      "Epoch 1/100\n",
      "121/121 - 200s - loss: 1.4143 - mse: 1.4143 - val_loss: 0.0934 - val_mse: 0.0934 - lr: 0.0010 - 200s/epoch - 2s/step\n",
      "Epoch 2/100\n",
      "121/121 - 184s - loss: 1.3212 - mse: 1.3212 - val_loss: 0.0895 - val_mse: 0.0895 - lr: 0.0010 - 184s/epoch - 2s/step\n",
      "Epoch 3/100\n",
      "121/121 - 182s - loss: 1.2991 - mse: 1.2991 - val_loss: 0.0928 - val_mse: 0.0928 - lr: 0.0010 - 182s/epoch - 2s/step\n",
      "Epoch 4/100\n",
      "121/121 - 180s - loss: 1.2852 - mse: 1.2852 - val_loss: 0.0934 - val_mse: 0.0934 - lr: 0.0010 - 180s/epoch - 1s/step\n",
      "Epoch 5/100\n",
      "121/121 - 180s - loss: 1.2739 - mse: 1.2739 - val_loss: 0.0962 - val_mse: 0.0962 - lr: 0.0010 - 180s/epoch - 1s/step\n",
      "Epoch 6/100\n",
      "121/121 - 182s - loss: 1.2695 - mse: 1.2695 - val_loss: 0.0932 - val_mse: 0.0932 - lr: 2.0000e-04 - 182s/epoch - 2s/step\n",
      "Epoch 7/100\n",
      "121/121 - 182s - loss: 1.2689 - mse: 1.2689 - val_loss: 0.0923 - val_mse: 0.0923 - lr: 2.0000e-04 - 182s/epoch - 2s/step\n",
      "Epoch 8/100\n",
      "121/121 - 182s - loss: 1.2669 - mse: 1.2669 - val_loss: 0.0917 - val_mse: 0.0917 - lr: 2.0000e-04 - 182s/epoch - 2s/step\n"
     ]
    },
    {
     "data": {
      "text/plain": [
       "<keras.callbacks.History at 0x7fe428500400>"
      ]
     },
     "execution_count": 9,
     "metadata": {},
     "output_type": "execute_result"
    }
   ],
   "source": [
    "#h3k27ac\n",
    "#128 batch size\n",
    "# Train model on dataset\n",
    "model.fit(training_generator,\n",
    "          validation_data=validation_generator,\n",
    "          epochs=n_epochs,\n",
    "          #steps_per_epoch=steps_per_epoch,\n",
    "          verbose=2,\n",
    "          use_multiprocessing=False,#started getting errors when set to True...\n",
    "          callbacks=[es,lr_schedule]\n",
    "         )"
   ]
  },
  {
   "cell_type": "code",
   "execution_count": 26,
   "id": "dfa52ee4",
   "metadata": {},
   "outputs": [
    {
     "name": "stdout",
     "output_type": "stream",
     "text": [
      "(4, 1, 1)\n",
      "[-0.79860288  0.38827886  0.89971109 -0.98716278]\n"
     ]
    },
    {
     "data": {
      "text/plain": [
       "array([[[0.31674972]],\n",
       "\n",
       "       [[0.31140888]],\n",
       "\n",
       "       [[0.31504294]],\n",
       "\n",
       "       [[0.31653702]]], dtype=float32)"
      ]
     },
     "execution_count": 26,
     "metadata": {},
     "output_type": "execute_result"
    }
   ],
   "source": [
    "print(model.predict_on_batch(X).shape)\n",
    "print(y)\n",
    "model.predict_on_batch(X)"
   ]
  },
  {
   "cell_type": "code",
   "execution_count": 119,
   "id": "821b33d1",
   "metadata": {},
   "outputs": [
    {
     "ename": "ValueError",
     "evalue": "x and y can be no greater than 2D, but have shapes (3,) and (3, 1, 1)",
     "output_type": "error",
     "traceback": [
      "\u001b[0;31m---------------------------------------------------------------------------\u001b[0m",
      "\u001b[0;31mValueError\u001b[0m                                Traceback (most recent call last)",
      "\u001b[0;32m/tmp/ipykernel_54951/4188951740.py\u001b[0m in \u001b[0;36m<module>\u001b[0;34m\u001b[0m\n\u001b[1;32m      1\u001b[0m \u001b[0mplt\u001b[0m\u001b[0;34m.\u001b[0m\u001b[0mplot\u001b[0m\u001b[0;34m(\u001b[0m\u001b[0my\u001b[0m\u001b[0;34m)\u001b[0m\u001b[0;34m\u001b[0m\u001b[0;34m\u001b[0m\u001b[0m\n\u001b[0;32m----> 2\u001b[0;31m \u001b[0mplt\u001b[0m\u001b[0;34m.\u001b[0m\u001b[0mplot\u001b[0m\u001b[0;34m(\u001b[0m\u001b[0mmodel\u001b[0m\u001b[0;34m.\u001b[0m\u001b[0mpredict_on_batch\u001b[0m\u001b[0;34m(\u001b[0m\u001b[0mX\u001b[0m\u001b[0;34m)\u001b[0m\u001b[0;34m)\u001b[0m\u001b[0;34m\u001b[0m\u001b[0;34m\u001b[0m\u001b[0m\n\u001b[0m\u001b[1;32m      3\u001b[0m \u001b[0mplt\u001b[0m\u001b[0;34m.\u001b[0m\u001b[0mshow\u001b[0m\u001b[0;34m(\u001b[0m\u001b[0;34m)\u001b[0m\u001b[0;34m\u001b[0m\u001b[0;34m\u001b[0m\u001b[0m\n",
      "\u001b[0;32m~/anaconda3/lib/python3.9/site-packages/matplotlib/pyplot.py\u001b[0m in \u001b[0;36mplot\u001b[0;34m(scalex, scaley, data, *args, **kwargs)\u001b[0m\n\u001b[1;32m   3017\u001b[0m \u001b[0;34m@\u001b[0m\u001b[0m_copy_docstring_and_deprecators\u001b[0m\u001b[0;34m(\u001b[0m\u001b[0mAxes\u001b[0m\u001b[0;34m.\u001b[0m\u001b[0mplot\u001b[0m\u001b[0;34m)\u001b[0m\u001b[0;34m\u001b[0m\u001b[0;34m\u001b[0m\u001b[0m\n\u001b[1;32m   3018\u001b[0m \u001b[0;32mdef\u001b[0m \u001b[0mplot\u001b[0m\u001b[0;34m(\u001b[0m\u001b[0;34m*\u001b[0m\u001b[0margs\u001b[0m\u001b[0;34m,\u001b[0m \u001b[0mscalex\u001b[0m\u001b[0;34m=\u001b[0m\u001b[0;32mTrue\u001b[0m\u001b[0;34m,\u001b[0m \u001b[0mscaley\u001b[0m\u001b[0;34m=\u001b[0m\u001b[0;32mTrue\u001b[0m\u001b[0;34m,\u001b[0m \u001b[0mdata\u001b[0m\u001b[0;34m=\u001b[0m\u001b[0;32mNone\u001b[0m\u001b[0;34m,\u001b[0m \u001b[0;34m**\u001b[0m\u001b[0mkwargs\u001b[0m\u001b[0;34m)\u001b[0m\u001b[0;34m:\u001b[0m\u001b[0;34m\u001b[0m\u001b[0;34m\u001b[0m\u001b[0m\n\u001b[0;32m-> 3019\u001b[0;31m     return gca().plot(\n\u001b[0m\u001b[1;32m   3020\u001b[0m         \u001b[0;34m*\u001b[0m\u001b[0margs\u001b[0m\u001b[0;34m,\u001b[0m \u001b[0mscalex\u001b[0m\u001b[0;34m=\u001b[0m\u001b[0mscalex\u001b[0m\u001b[0;34m,\u001b[0m \u001b[0mscaley\u001b[0m\u001b[0;34m=\u001b[0m\u001b[0mscaley\u001b[0m\u001b[0;34m,\u001b[0m\u001b[0;34m\u001b[0m\u001b[0;34m\u001b[0m\u001b[0m\n\u001b[1;32m   3021\u001b[0m         **({\"data\": data} if data is not None else {}), **kwargs)\n",
      "\u001b[0;32m~/anaconda3/lib/python3.9/site-packages/matplotlib/axes/_axes.py\u001b[0m in \u001b[0;36mplot\u001b[0;34m(self, scalex, scaley, data, *args, **kwargs)\u001b[0m\n\u001b[1;32m   1603\u001b[0m         \"\"\"\n\u001b[1;32m   1604\u001b[0m         \u001b[0mkwargs\u001b[0m \u001b[0;34m=\u001b[0m \u001b[0mcbook\u001b[0m\u001b[0;34m.\u001b[0m\u001b[0mnormalize_kwargs\u001b[0m\u001b[0;34m(\u001b[0m\u001b[0mkwargs\u001b[0m\u001b[0;34m,\u001b[0m \u001b[0mmlines\u001b[0m\u001b[0;34m.\u001b[0m\u001b[0mLine2D\u001b[0m\u001b[0;34m)\u001b[0m\u001b[0;34m\u001b[0m\u001b[0;34m\u001b[0m\u001b[0m\n\u001b[0;32m-> 1605\u001b[0;31m         \u001b[0mlines\u001b[0m \u001b[0;34m=\u001b[0m \u001b[0;34m[\u001b[0m\u001b[0;34m*\u001b[0m\u001b[0mself\u001b[0m\u001b[0;34m.\u001b[0m\u001b[0m_get_lines\u001b[0m\u001b[0;34m(\u001b[0m\u001b[0;34m*\u001b[0m\u001b[0margs\u001b[0m\u001b[0;34m,\u001b[0m \u001b[0mdata\u001b[0m\u001b[0;34m=\u001b[0m\u001b[0mdata\u001b[0m\u001b[0;34m,\u001b[0m \u001b[0;34m**\u001b[0m\u001b[0mkwargs\u001b[0m\u001b[0;34m)\u001b[0m\u001b[0;34m]\u001b[0m\u001b[0;34m\u001b[0m\u001b[0;34m\u001b[0m\u001b[0m\n\u001b[0m\u001b[1;32m   1606\u001b[0m         \u001b[0;32mfor\u001b[0m \u001b[0mline\u001b[0m \u001b[0;32min\u001b[0m \u001b[0mlines\u001b[0m\u001b[0;34m:\u001b[0m\u001b[0;34m\u001b[0m\u001b[0;34m\u001b[0m\u001b[0m\n\u001b[1;32m   1607\u001b[0m             \u001b[0mself\u001b[0m\u001b[0;34m.\u001b[0m\u001b[0madd_line\u001b[0m\u001b[0;34m(\u001b[0m\u001b[0mline\u001b[0m\u001b[0;34m)\u001b[0m\u001b[0;34m\u001b[0m\u001b[0;34m\u001b[0m\u001b[0m\n",
      "\u001b[0;32m~/anaconda3/lib/python3.9/site-packages/matplotlib/axes/_base.py\u001b[0m in \u001b[0;36m__call__\u001b[0;34m(self, data, *args, **kwargs)\u001b[0m\n\u001b[1;32m    313\u001b[0m                 \u001b[0mthis\u001b[0m \u001b[0;34m+=\u001b[0m \u001b[0margs\u001b[0m\u001b[0;34m[\u001b[0m\u001b[0;36m0\u001b[0m\u001b[0;34m]\u001b[0m\u001b[0;34m,\u001b[0m\u001b[0;34m\u001b[0m\u001b[0;34m\u001b[0m\u001b[0m\n\u001b[1;32m    314\u001b[0m                 \u001b[0margs\u001b[0m \u001b[0;34m=\u001b[0m \u001b[0margs\u001b[0m\u001b[0;34m[\u001b[0m\u001b[0;36m1\u001b[0m\u001b[0;34m:\u001b[0m\u001b[0;34m]\u001b[0m\u001b[0;34m\u001b[0m\u001b[0;34m\u001b[0m\u001b[0m\n\u001b[0;32m--> 315\u001b[0;31m             \u001b[0;32myield\u001b[0m \u001b[0;32mfrom\u001b[0m \u001b[0mself\u001b[0m\u001b[0;34m.\u001b[0m\u001b[0m_plot_args\u001b[0m\u001b[0;34m(\u001b[0m\u001b[0mthis\u001b[0m\u001b[0;34m,\u001b[0m \u001b[0mkwargs\u001b[0m\u001b[0;34m)\u001b[0m\u001b[0;34m\u001b[0m\u001b[0;34m\u001b[0m\u001b[0m\n\u001b[0m\u001b[1;32m    316\u001b[0m \u001b[0;34m\u001b[0m\u001b[0m\n\u001b[1;32m    317\u001b[0m     \u001b[0;32mdef\u001b[0m \u001b[0mget_next_color\u001b[0m\u001b[0;34m(\u001b[0m\u001b[0mself\u001b[0m\u001b[0;34m)\u001b[0m\u001b[0;34m:\u001b[0m\u001b[0;34m\u001b[0m\u001b[0;34m\u001b[0m\u001b[0m\n",
      "\u001b[0;32m~/anaconda3/lib/python3.9/site-packages/matplotlib/axes/_base.py\u001b[0m in \u001b[0;36m_plot_args\u001b[0;34m(self, tup, kwargs, return_kwargs)\u001b[0m\n\u001b[1;32m    502\u001b[0m                              f\"have shapes {x.shape} and {y.shape}\")\n\u001b[1;32m    503\u001b[0m         \u001b[0;32mif\u001b[0m \u001b[0mx\u001b[0m\u001b[0;34m.\u001b[0m\u001b[0mndim\u001b[0m \u001b[0;34m>\u001b[0m \u001b[0;36m2\u001b[0m \u001b[0;32mor\u001b[0m \u001b[0my\u001b[0m\u001b[0;34m.\u001b[0m\u001b[0mndim\u001b[0m \u001b[0;34m>\u001b[0m \u001b[0;36m2\u001b[0m\u001b[0;34m:\u001b[0m\u001b[0;34m\u001b[0m\u001b[0;34m\u001b[0m\u001b[0m\n\u001b[0;32m--> 504\u001b[0;31m             raise ValueError(f\"x and y can be no greater than 2D, but have \"\n\u001b[0m\u001b[1;32m    505\u001b[0m                              f\"shapes {x.shape} and {y.shape}\")\n\u001b[1;32m    506\u001b[0m         \u001b[0;32mif\u001b[0m \u001b[0mx\u001b[0m\u001b[0;34m.\u001b[0m\u001b[0mndim\u001b[0m \u001b[0;34m==\u001b[0m \u001b[0;36m1\u001b[0m\u001b[0;34m:\u001b[0m\u001b[0;34m\u001b[0m\u001b[0;34m\u001b[0m\u001b[0m\n",
      "\u001b[0;31mValueError\u001b[0m: x and y can be no greater than 2D, but have shapes (3,) and (3, 1, 1)"
     ]
    },
    {
     "data": {
      "image/png": "[encoded data removed]",
      "text/plain": [
       "<Figure size 432x288 with 1 Axes>"
      ]
     },
     "metadata": {
      "needs_background": "light"
     },
     "output_type": "display_data"
    }
   ],
   "source": [
    "plt.plot(y)\n",
    "plt.plot(model.predict_on_batch(X))\n",
    "plt.show()"
   ]
  },
  {
   "cell_type": "code",
   "execution_count": null,
   "id": "042aed71",
   "metadata": {},
   "outputs": [],
   "source": [
    "model.save(f\"{MOD_SAVE_PATH}'/mod_{cell}_{features}\")"
   ]
  },
  {
   "cell_type": "code",
   "execution_count": null,
   "id": "b9a3ca04",
   "metadata": {},
   "outputs": [],
   "source": [
    "pred_resolution = 25\n",
    "# 1 Mb of the assay will be considered for the prediction of gene expression\n",
    "window_size = 1_000_000"
   ]
  },
  {
   "cell_type": "code",
   "execution_count": null,
   "id": "80e395f0",
   "metadata": {},
   "outputs": [],
   "source": []
  }
 ],
 "metadata": {
  "kernelspec": {
   "display_name": "epi_to_express",
   "language": "python",
   "name": "epi_to_express"
  },
  "language_info": {
   "codemirror_mode": {
    "name": "ipython",
    "version": 3
   },
   "file_extension": ".py",
   "mimetype": "text/x-python",
   "name": "python",
   "nbconvert_exporter": "python",
   "pygments_lexer": "ipython3",
   "version": "3.9.7"
  }
 },
 "nbformat": 4,
 "nbformat_minor": 5
}
